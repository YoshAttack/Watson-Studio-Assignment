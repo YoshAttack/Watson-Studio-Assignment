{
    "cells": [
        {
            "cell_type": "markdown",
            "metadata": {
                "collapsed": true,
                "id": "a654ea68-cdf6-4dba-a817-9e52a42d74a2",
                "jupyter": {
                    "outputs_hidden": true
                }
            },
            "source": "# My Jupyter Notebook on IBM Watson Studio"
        },
        {
            "cell_type": "markdown",
            "metadata": {
                "id": "8f710ea0-642d-4671-8a4e-2f53e449400e"
            },
            "source": "__Mathias Getaneh__ \n\nData Scientist"
        },
        {
            "cell_type": "markdown",
            "metadata": {
                "id": "6c92e358-8792-4916-9f9b-7e670f752be6"
            },
            "source": "_I am interested in data science because data science is a career in which I can provide insights using data._"
        },
        {
            "cell_type": "markdown",
            "metadata": {
                "id": "767e380f-0ba7-41a9-aa4b-21f1a331e71c"
            },
            "source": "### The code below prints a random greeting from a list of possible greetings."
        },
        {
            "cell_type": "code",
            "execution_count": 11,
            "metadata": {
                "id": "68c01aca-51c2-48b0-b7f0-0084a1445345"
            },
            "outputs": [
                {
                    "name": "stdout",
                    "output_type": "stream",
                    "text": "Good afternoon.\n"
                }
            ],
            "source": "import random\ngreetings = [\"Hello!\", \"Greetings.\", \"Good morning.\", \"Good afternoon.\", \"Good Evening.\", \"Welcome.\", \"Hi!\"]\nprint(random.choice(greetings))"
        },
        {
            "cell_type": "markdown",
            "metadata": {
                "id": "0917659f-d863-4aab-a197-d0d8319f780d"
            },
            "source": "__Possible greetings:__\n- Hello!\n- Greetings.\n- Good Morning.\n- Good Afternoon.\n- Good Evening.\n- Welcome.\n- Hi!\n\n__Formal vs. Informal__\n|Formal | Informal |\n| - | - |\n|Greetings. | Hello!|\n|Good Morning.| Welcome. |\n|Good Afternoon.| Hi! |\n|Good Evening.| |\n\n\n__Sources:__\n1. [Documentation for random](https://docs.python.org/3/library/random.html)\n2. [Examples of greetings](https://preply.com/en/blog/22-useful-english-greetings-for-every-day/)"
        }
    ],
    "metadata": {
        "kernelspec": {
            "display_name": "Python 3.11",
            "language": "python",
            "name": "python3"
        },
        "language_info": {
            "codemirror_mode": {
                "name": "ipython",
                "version": 3
            },
            "file_extension": ".py",
            "mimetype": "text/x-python",
            "name": "python",
            "nbconvert_exporter": "python",
            "pygments_lexer": "ipython3",
            "version": "3.11.9"
        }
    },
    "nbformat": 4,
    "nbformat_minor": 4
}